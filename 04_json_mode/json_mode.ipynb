{
 "cells": [
  {
   "cell_type": "markdown",
   "metadata": {},
   "source": [
    "# JSON Mode\n",
    "\n",
    "Read and watch:\n",
    "\n",
    "https://platform.openai.com/docs/guides/text-generation/json-mode\n",
    "\n",
    "https://community.openai.com/t/how-do-i-use-the-new-json-mode/475890/47 \n",
    "\n",
    "https://www.youtube.com/watch?v=o4q2qsGKVkE\n",
    "\n",
    "https://github.com/rokbenko/openai-api-tutorials/tree/main/Tutorials/%231%20How%20do%20I%20get%20an%20OpenAI%20API%20response%20in%20JSON%20format"
   ]
  },
  {
   "cell_type": "code",
   "execution_count": 2,
   "metadata": {},
   "outputs": [],
   "source": [
    "from openai import OpenAI\n",
    "from dotenv import load_dotenv, find_dotenv\n",
    "\n",
    "_ : bool = load_dotenv(find_dotenv()) # read local .env file\n",
    "\n",
    "client : OpenAI = OpenAI()"
   ]
  },
  {
   "cell_type": "code",
   "execution_count": 3,
   "metadata": {},
   "outputs": [
    {
     "name": "stdout",
     "output_type": "stream",
     "text": [
      "{\n",
      "   \"months\": [\n",
      "      \"April\",\n",
      "      \"June\",\n",
      "      \"September\",\n",
      "      \"November\"\n",
      "   ]\n",
      "}\n"
     ]
    }
   ],
   "source": [
    "response = client.chat.completions.create(\n",
    "  model=\"gpt-3.5-turbo-1106\",\n",
    "  response_format={ \"type\": \"json_object\" },\n",
    "  messages=[\n",
    "    {\"role\": \"system\", \"content\": \"You are a helpful assistant designed to output JSON.\"},\n",
    "    {\"role\": \"user\", \"content\": \"List of months that have 30 days\"}\n",
    "  ]\n",
    ")\n",
    "print(response.choices[0].message.content)"
   ]
  },
  {
   "cell_type": "markdown",
   "metadata": {},
   "source": [
    "Parse JSON - Convert from JSON to Python\n",
    "\n",
    "https://www.w3schools.com/python/python_json.asp"
   ]
  },
  {
   "cell_type": "code",
   "execution_count": 4,
   "metadata": {},
   "outputs": [
    {
     "ename": "AttributeError",
     "evalue": "'dict' object has no attribute 'choices'",
     "output_type": "error",
     "traceback": [
      "\u001b[1;31m---------------------------------------------------------------------------\u001b[0m",
      "\u001b[1;31mAttributeError\u001b[0m                            Traceback (most recent call last)",
      "Cell \u001b[1;32mIn[4], line 11\u001b[0m\n\u001b[0;32m      2\u001b[0m response \u001b[38;5;241m=\u001b[39m {\n\u001b[0;32m      3\u001b[0m    \u001b[38;5;124m\"\u001b[39m\u001b[38;5;124mmonths\u001b[39m\u001b[38;5;124m\"\u001b[39m: [\n\u001b[0;32m      4\u001b[0m       \u001b[38;5;124m\"\u001b[39m\u001b[38;5;124mApril\u001b[39m\u001b[38;5;124m\"\u001b[39m,\n\u001b[1;32m   (...)\u001b[0m\n\u001b[0;32m      8\u001b[0m    ]\n\u001b[0;32m      9\u001b[0m }\n\u001b[0;32m     10\u001b[0m \u001b[38;5;66;03m# parse response:\u001b[39;00m\n\u001b[1;32m---> 11\u001b[0m obj: \u001b[38;5;28mdict\u001b[39m[\u001b[38;5;28mstr\u001b[39m, \u001b[38;5;28mlist\u001b[39m[\u001b[38;5;28mstr\u001b[39m]] \u001b[38;5;241m=\u001b[39m json\u001b[38;5;241m.\u001b[39mloads(\u001b[43mresponse\u001b[49m\u001b[38;5;241;43m.\u001b[39;49m\u001b[43mchoices\u001b[49m[\u001b[38;5;241m0\u001b[39m]\u001b[38;5;241m.\u001b[39mmessage\u001b[38;5;241m.\u001b[39mcontent)\n\u001b[0;32m     13\u001b[0m \u001b[38;5;66;03m# the result is a Python dictionary:\u001b[39;00m\n\u001b[0;32m     14\u001b[0m \u001b[38;5;28mprint\u001b[39m(obj[\u001b[38;5;124m\"\u001b[39m\u001b[38;5;124mmonths\u001b[39m\u001b[38;5;124m\"\u001b[39m])\n",
      "\u001b[1;31mAttributeError\u001b[0m: 'dict' object has no attribute 'choices'"
     ]
    }
   ],
   "source": [
    "import json\n",
    "response = {\n",
    "   \"months\": [\n",
    "      \"April\",\n",
    "      \"June\",\n",
    "      \"September\",\n",
    "      \"November\"\n",
    "   ]\n",
    "}\n",
    "# parse response:\n",
    "obj: dict[str, list[str]] = json.loads(response)\n",
    "\n",
    "# the result is a Python dictionary:\n",
    "print(obj[\"months\"])"
   ]
  }
 ],
 "metadata": {
  "kernelspec": {
   "display_name": "base",
   "language": "python",
   "name": "python3"
  },
  "language_info": {
   "codemirror_mode": {
    "name": "ipython",
    "version": 3
   },
   "file_extension": ".py",
   "mimetype": "text/x-python",
   "name": "python",
   "nbconvert_exporter": "python",
   "pygments_lexer": "ipython3",
   "version": "3.12.0"
  }
 },
 "nbformat": 4,
 "nbformat_minor": 2
}
